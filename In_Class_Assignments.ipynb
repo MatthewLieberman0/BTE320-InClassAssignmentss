{
  "nbformat": 4,
  "nbformat_minor": 0,
  "metadata": {
    "colab": {
      "provenance": [],
      "authorship_tag": "ABX9TyNHzCK8QKcpDnNmz5tRVAKf",
      "include_colab_link": true
    },
    "kernelspec": {
      "name": "python3",
      "display_name": "Python 3"
    },
    "language_info": {
      "name": "python"
    }
  },
  "cells": [
    {
      "cell_type": "markdown",
      "metadata": {
        "id": "view-in-github",
        "colab_type": "text"
      },
      "source": [
        "<a href=\"https://colab.research.google.com/github/MatthewLieberman0/BTE320-InClassAssignmentss/blob/main/In_Class_Assignments.ipynb\" target=\"_parent\"><img src=\"https://colab.research.google.com/assets/colab-badge.svg\" alt=\"Open In Colab\"/></a>"
      ]
    },
    {
      "cell_type": "code",
      "execution_count": null,
      "metadata": {
        "colab": {
          "base_uri": "https://localhost:8080/"
        },
        "id": "yE4ImuuZCmQH",
        "outputId": "1ce88d99-4676-4a20-b11d-4711bd094458"
      },
      "outputs": [
        {
          "output_type": "stream",
          "name": "stdout",
          "text": [
            "244.92000000000002\n"
          ]
        }
      ],
      "source": [
        "h = 10\n",
        "r = 3\n",
        "pi = 3.14\n",
        "SurfaceArea = (2 * pi * r ** 2) + (2 * pi * r * h)\n",
        "\n",
        "print(SurfaceArea)\n",
        "\n"
      ]
    },
    {
      "cell_type": "code",
      "source": [
        "p1 = input('Choose Rock, Paper, or Scissors')\n",
        "p2 = input('Choose Rock, Paper, or Scissors')\n",
        "\n",
        "if p1 == p2:\n",
        "  print('Draw')\n",
        "if p1 == 'Rock':\n",
        "  if p2 == 'Paper':\n",
        "    print('p2 wins')\n",
        "  elif p2 == 'Scissors':\n",
        "    print('p1 wins')\n",
        "if p1 == 'Paper':\n",
        "  if p2 == 'Rock':\n",
        "    print('p1 wins')\n",
        "  elif p2 == 'Scissors':\n",
        "    print('p2 wins')\n",
        "if p1 == 'Scissors':\n",
        "  if p2 == 'Rock':\n",
        "    print('p2 wins')\n",
        "  elif p2 == 'Paper':\n",
        "    print('p1 wins')"
      ],
      "metadata": {
        "colab": {
          "base_uri": "https://localhost:8080/"
        },
        "id": "3ROa8W2uLaS2",
        "outputId": "69f670eb-50e9-49ff-952e-cfcc79f5e5dc"
      },
      "execution_count": null,
      "outputs": [
        {
          "output_type": "stream",
          "name": "stdout",
          "text": [
            "Choose Rock, Paper, or ScissorsScissors\n",
            "Choose Rock, Paper, or ScissorsRock\n",
            "p2 wins\n"
          ]
        }
      ]
    },
    {
      "cell_type": "code",
      "source": [
        "p1 = input('Choose Rock, Paper, or Scissors')\n",
        "p2 = input('Choose Rock, Paper, or Scissors')\n",
        "\n",
        "if p1 == p2:\n",
        "  print('Draw')\n",
        "elif p1 == 'Rock' and p2 == 'Scissors':\n",
        "  print('p1 wins')\n",
        "elif p1 == 'Paper' and p2 == 'Rock':\n",
        "   print('p1 wins')\n",
        "elif p1 == 'Scissors' and p2 == 'Paper':\n",
        "  print('p1 wins')\n",
        "else:\n",
        "  print('p2 wins')"
      ],
      "metadata": {
        "id": "TywFeJ23PYoc"
      },
      "execution_count": null,
      "outputs": []
    },
    {
      "cell_type": "code",
      "source": [
        "p1 = input('Choose Rock, Paper, or Scissors')\n",
        "p2 = input('Choose Rock, Paper, or Scissors')\n",
        "\n",
        "if p1 == p2:\n",
        "  print('Draw')\n",
        "elif ((p1 == 'Rock' and p2 == 'Scissors') or\n",
        " ( p1 == 'Paper' and p2 == 'Rock') or\n",
        "  (p1 == 'Scissors' and p2 == 'Paper')):\n",
        "  print('p1 wins')\n",
        "else:\n",
        "  print('p2 wins')"
      ],
      "metadata": {
        "colab": {
          "base_uri": "https://localhost:8080/"
        },
        "id": "SSLlqJfwQbrr",
        "outputId": "fa0f9aca-d592-4768-e8b4-9aa4df3480a7"
      },
      "execution_count": null,
      "outputs": [
        {
          "output_type": "stream",
          "name": "stdout",
          "text": [
            "Choose Rock, Paper, or ScissorsRock\n",
            "Choose Rock, Paper, or ScissorsPaper\n",
            "p2 wins\n"
          ]
        }
      ]
    },
    {
      "cell_type": "code",
      "source": [
        "n1 = float(input('Choose the first number'))\n",
        "n2 = float(input('Choose the second number'))\n",
        "symbol = input('Choose the symbol for calculation (+, -, *, /, **)')\n",
        "\n",
        "if symbol == '+':\n",
        "  print(n1 + n2)\n",
        "elif symbol == '-':\n",
        "  print(n1 - n2)\n",
        "elif symbol == '*':\n",
        "  print(n1*n2)\n",
        "elif symbol == '/':\n",
        "  print(n1/n2)\n",
        "elif symbol == '**':\n",
        "  print(n1**n2)"
      ],
      "metadata": {
        "id": "BQTTutTlWvOO"
      },
      "execution_count": null,
      "outputs": []
    }
  ]
}