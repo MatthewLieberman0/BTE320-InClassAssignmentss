{
  "nbformat": 4,
  "nbformat_minor": 0,
  "metadata": {
    "colab": {
      "provenance": [],
      "authorship_tag": "ABX9TyNkC8Yt7mDDLWqpIKSGPKzj",
      "include_colab_link": true
    },
    "kernelspec": {
      "name": "python3",
      "display_name": "Python 3"
    },
    "language_info": {
      "name": "python"
    }
  },
  "cells": [
    {
      "cell_type": "markdown",
      "metadata": {
        "id": "view-in-github",
        "colab_type": "text"
      },
      "source": [
        "<a href=\"https://colab.research.google.com/github/MatthewLieberman0/BTE320-InClassAssignmentss/blob/main/In_Class_Assignments.ipynb\" target=\"_parent\"><img src=\"https://colab.research.google.com/assets/colab-badge.svg\" alt=\"Open In Colab\"/></a>"
      ]
    },
    {
      "cell_type": "code",
      "execution_count": null,
      "metadata": {
        "colab": {
          "base_uri": "https://localhost:8080/"
        },
        "id": "yE4ImuuZCmQH",
        "outputId": "1ce88d99-4676-4a20-b11d-4711bd094458"
      },
      "outputs": [
        {
          "output_type": "stream",
          "name": "stdout",
          "text": [
            "244.92000000000002\n"
          ]
        }
      ],
      "source": [
        "h = 10\n",
        "r = 3\n",
        "pi = 3.14\n",
        "SurfaceArea = (2 * pi * r ** 2) + (2 * pi * r * h)\n",
        "\n",
        "print(SurfaceArea)\n",
        "\n"
      ]
    },
    {
      "cell_type": "code",
      "source": [
        "import random\n",
        "choice = input('Do you want to play a game?')\n",
        "while choice == 'yes':\n",
        "  p1 = input('Choose rock, paper, or scissors')\n",
        "  p2 = random.choice(['rock', 'paper', 'scissors'])\n",
        "  print(f'Computer chose {p2}.')\n",
        "  if p1 == p2:\n",
        "    print('Draw')\n",
        "  elif p1 == 'rock' and p2 == 'scissors':\n",
        "   print('p1 wins')\n",
        "  elif p1 == 'paper' and p2 == 'rock':\n",
        "    print('p1 wins')\n",
        "  elif p1 == 'scissors' and p2 == 'paper':\n",
        "    print('p1 wins')\n",
        "  else:\n",
        "    print('p2 wins')\n",
        "  choice = input('Do you want to play a game?')"
      ],
      "metadata": {
        "id": "TywFeJ23PYoc",
        "colab": {
          "base_uri": "https://localhost:8080/"
        },
        "collapsed": true,
        "outputId": "c8afa1f3-1beb-45ff-8596-45ec492301dd"
      },
      "execution_count": null,
      "outputs": [
        {
          "name": "stdout",
          "output_type": "stream",
          "text": [
            "Do you want to play a game?yes\n",
            "Choose rock, paper, or scissorsrock\n",
            "Computer chose paper.\n",
            "p2 wins\n",
            "Do you want to play a game?yes\n",
            "Choose rock, paper, or scissorsscissors\n",
            "Computer chose paper.\n",
            "p1 wins\n",
            "Do you want to play a game?\n"
          ]
        }
      ]
    },
    {
      "cell_type": "code",
      "source": [
        "p1 = input('Choose Rock, Paper, or Scissors')\n",
        "p2 = input('Choose Rock, Paper, or Scissors')\n",
        "\n",
        "if p1 == p2:\n",
        "  print('Draw')\n",
        "elif ((p1 == 'Rock' and p2 == 'Scissors') or\n",
        "( p1 == 'Paper' and p2 == 'Rock') or\n",
        "  (p1 == 'Scissors' and p2 == 'Paper')):\n",
        "  print('p1 wins')\n",
        "else:\n",
        "  print('p2 wins')"
      ],
      "metadata": {
        "id": "SSLlqJfwQbrr"
      },
      "execution_count": null,
      "outputs": []
    },
    {
      "cell_type": "code",
      "source": [
        "n1 = float(input('Choose the first number'))\n",
        "n2 = float(input('Choose the second number'))\n",
        "symbol = input('Choose the symbol for calculation (+, -, *, /, **)')\n",
        "\n",
        "if symbol == '+':\n",
        "  print(n1 + n2)\n",
        "elif symbol == '-':\n",
        "  print(n1 - n2)\n",
        "elif symbol == '*':\n",
        "  print(n1*n2)\n",
        "elif symbol == '/':\n",
        "  print(n1/n2)\n",
        "elif symbol == '**':\n",
        "  print(n1**n2)"
      ],
      "metadata": {
        "id": "BQTTutTlWvOO"
      },
      "execution_count": null,
      "outputs": []
    },
    {
      "cell_type": "code",
      "source": [
        "flatRate = 5\n",
        "hourlyRate = 2.5\n",
        "\n",
        "for hour in range(1, 9, 1):\n",
        "  charge = flatRate + hourlyRate * hour\n",
        "  if charge < 10:\n",
        "    charge = 10.0\n",
        "  elif charge > 20:\n",
        "    charge = 20.0\n",
        "  print(hour, ' ', charge)\n",
        "\n",
        "\n",
        "\n"
      ],
      "metadata": {
        "colab": {
          "base_uri": "https://localhost:8080/"
        },
        "collapsed": true,
        "id": "YW35TLRdaS-r",
        "outputId": "ce952eae-c230-4f4b-ed0a-41f116cb42d2"
      },
      "execution_count": null,
      "outputs": [
        {
          "output_type": "stream",
          "name": "stdout",
          "text": [
            "1   10.0\n",
            "2   10.0\n",
            "3   12.5\n",
            "4   15.0\n",
            "5   17.5\n",
            "6   20.0\n",
            "7   20.0\n",
            "8   20.0\n"
          ]
        }
      ]
    },
    {
      "cell_type": "code",
      "source": [
        "for ad in range(0, 201, 25):\n",
        "  additional = 2*round(ad**.5)\n",
        "  profit = ((20 + additional) * 10) - 200 - ad\n",
        "  print(ad, ' ', profit)"
      ],
      "metadata": {
        "colab": {
          "base_uri": "https://localhost:8080/"
        },
        "id": "D-IVNTvykoJw",
        "outputId": "a351ea0c-a7e7-4924-bf70-10765cf254f9"
      },
      "execution_count": null,
      "outputs": [
        {
          "output_type": "stream",
          "name": "stdout",
          "text": [
            "0   0\n",
            "25   75\n",
            "50   90\n",
            "75   105\n",
            "100   100\n",
            "125   95\n",
            "150   90\n",
            "175   85\n",
            "200   80\n"
          ]
        }
      ]
    },
    {
      "cell_type": "code",
      "source": [
        "choice = input('Do you want to play a game?')\n",
        "while choice == 'yes':\n",
        "  p1 = input('Choose rock, paper, or scissors')\n",
        "  p2 = random.choice(['rock', 'paper', 'scissors'])\n",
        "  print(f'Computer chose {p2}.')\n",
        "  if p1 == p2:\n",
        "    print('Draw')\n",
        "  elif p1 == 'rock' and p2 == 'scissors':\n",
        "   print('p1 wins')\n",
        "  elif p1 == 'paper' and p2 == 'rock':\n",
        "    print('p1 wins')\n",
        "  elif p1 == 'scissors' and p2 == 'paper':\n",
        "    print('p1 wins')\n",
        "  else:\n",
        "    print('p2 wins')\n",
        "  choice = input('Do you want to play a game?')"
      ],
      "metadata": {
        "id": "J5TmmJK8mjs2"
      },
      "execution_count": null,
      "outputs": []
    },
    {
      "cell_type": "code",
      "source": [
        "L = []\n",
        "item = int(input('Give a value: '))\n",
        "while item != 0:\n",
        "  L.append(item)\n",
        "  item = int(input('Give a value: '))\n",
        "\n",
        "print(L)\n",
        "\n",
        "\n",
        "\n",
        "\n",
        ""
      ],
      "metadata": {
        "id": "ILKhPE1BmLOV"
      },
      "execution_count": null,
      "outputs": []
    }
  ]
}